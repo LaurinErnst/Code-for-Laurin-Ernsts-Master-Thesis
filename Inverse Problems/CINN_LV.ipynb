{
 "cells": [
  {
   "cell_type": "code",
   "execution_count": 19,
   "metadata": {},
   "outputs": [],
   "source": [
    "import numpy as np\n",
    "import pandas as pd\n",
    "from tqdm import tqdm\n",
    "import matplotlib.pyplot as plt\n",
    "import torch as th\n",
    "import torch.nn as nn\n",
    "import math"
   ]
  },
  {
   "cell_type": "code",
   "execution_count": 20,
   "metadata": {},
   "outputs": [],
   "source": [
    "device = th.device(\"cuda\" if th.cuda.is_available() else \"cpu\")"
   ]
  },
  {
   "cell_type": "code",
   "execution_count": 21,
   "metadata": {},
   "outputs": [],
   "source": [
    "\n",
    "dt = 0.01\n",
    "max_time = 10"
   ]
  },
  {
   "cell_type": "code",
   "execution_count": 22,
   "metadata": {},
   "outputs": [],
   "source": [
    "def lotka_volterra(x, y, alpha, beta, gamma, delta, dt):\n",
    "    dx = (alpha * x - beta * x * y) * dt\n",
    "    dy = (-gamma * y + delta * x * y) * dt\n",
    "    return x + dx, y + dy\n",
    "\n",
    "\n",
    "def simulate_lotka_volterra(alpha, beta, gamma, delta, x0, y0, steps, dt, max_steps):\n",
    "    x, y = x0, y0\n",
    "    dt = th.tensor([dt] * len(steps))\n",
    "    for i in range(max_steps):\n",
    "        dt = th.where(steps > i, dt, 0)\n",
    "        x, y = lotka_volterra(x, y, alpha, beta, gamma, delta, dt)\n",
    "\n",
    "    return x, y"
   ]
  },
  {
   "cell_type": "code",
   "execution_count": 23,
   "metadata": {},
   "outputs": [],
   "source": [
    "def data_generator(num_samples):\n",
    "\n",
    "    max_steps = 10\n",
    "    steps = th.tensor(np.random.randint(1, max_steps, num_samples))\n",
    "\n",
    "    x0 = th.tensor(np.random.randint(1, 40, num_samples))\n",
    "    y0 = th.tensor(np.random.randint(1, 40, num_samples))\n",
    "    alpha = th.tensor(np.random.uniform(0.5, 1.5, num_samples))\n",
    "    gamma = th.tensor(np.random.uniform(0.01, 0.5, num_samples))\n",
    "    beta = th.tensor(np.random.uniform(0.01, 0.5, num_samples))\n",
    "    delta = th.tensor(np.random.uniform(0.01, 0.05, num_samples))\n",
    "\n",
    "    x, y = simulate_lotka_volterra(\n",
    "        alpha, beta, gamma, delta, x0, y0, steps, dt, max_steps\n",
    "    )\n",
    "    x = x.unsqueeze(1)\n",
    "    y = y.unsqueeze(1)\n",
    "    steps = steps.unsqueeze(1)\n",
    "    x0 = x0.unsqueeze(1)\n",
    "    y0 = y0.unsqueeze(1)\n",
    "    alpha = alpha.unsqueeze(1)\n",
    "    gamma = gamma.unsqueeze(1)\n",
    "    beta = beta.unsqueeze(1)\n",
    "    delta = delta.unsqueeze(1)\n",
    "    obs = th.cat([x, y], dim=1)\n",
    "    state = th.cat([x0, y0, steps, alpha, beta, gamma, delta], dim=1)\n",
    "\n",
    "    return state, obs"
   ]
  },
  {
   "cell_type": "code",
   "execution_count": 24,
   "metadata": {},
   "outputs": [],
   "source": [
    "class SimpleFCNN(nn.Module):\n",
    "    def __init__(self, input_size, hidden_size, output_size, num_layers=2):\n",
    "        super(SimpleFCNN, self).__init__()\n",
    "        self.relu = nn.ReLU()\n",
    "        # initialize the first layer\n",
    "        self.first_layer = nn.Linear(input_size, hidden_size)\n",
    "        self.num_layers = num_layers\n",
    "        # initialize the layers\n",
    "        for i in range(num_layers - 2):\n",
    "            setattr(self, f\"fc{i}\", nn.Linear(hidden_size, hidden_size))\n",
    "\n",
    "        # initialize last layer extra\n",
    "        self.last_layer = nn.Linear(hidden_size, output_size)\n",
    "\n",
    "    def forward(self, x):\n",
    "        # apply first layer\n",
    "        x = self.relu(self.first_layer(x))\n",
    "        # iterate over all layers but the last one\n",
    "        for i in range(self.num_layers - 2):\n",
    "            x = self.relu(getattr(self, f\"fc{i}\")(x))\n",
    "        # apply last layer without relu\n",
    "        x = self.last_layer(x)\n",
    "        return x\n",
    "\n",
    "class CouplingLayer(nn.Module):\n",
    "    def __init__(self, num_features, hidden_size, num_layers, num_conds):\n",
    "        super(CouplingLayer, self).__init__()\n",
    "        # Initialize the fully connected network\n",
    "        upper_split_size = math.ceil(num_features / 2)\n",
    "        lower_split_size = num_features - upper_split_size\n",
    "        # self.t = SimpleFCNN(\n",
    "        #     upper_split_size, hidden_size, 2*lower_split_size, num_layers\n",
    "        # )\n",
    "        self.s = SimpleFCNN(\n",
    "            upper_split_size + num_conds, hidden_size, 2*lower_split_size, num_layers\n",
    "        )\n",
    "\n",
    "    def forward(\n",
    "        self,\n",
    "        x,\n",
    "        cond,\n",
    "    ):\n",
    "        x_1, x_2 = th.tensor_split(x, 2, dim=1)\n",
    "        x_1_tilde = th.cat((x_1, cond), dim=1)\n",
    "        s, t = th.tensor_split(self.s(x_1_tilde), 2, dim=1)\n",
    "        # Forward pass through the coupling layer\n",
    "        x_2 = th.abs(s) * x_2 + t\n",
    "        log_det_J = th.sum(th.log(th.abs(s)), dim=1)\n",
    "        return th.cat((x_1, x_2), dim=1), log_det_J\n",
    "\n",
    "    def backward(self, x, cond):\n",
    "        x_1, x_2 = th.tensor_split(x, 2, dim=1)\n",
    "        x_1_tilde = th.cat((x_1, cond), dim=1)\n",
    "        s, t = th.tensor_split(self.s(x_1_tilde), 2, dim=1)\n",
    "        # Forward pass through the coupling layer\n",
    "        x_2 = (x_2 - t) / th.abs(s)\n",
    "        return th.cat((x_1, x_2), dim=1)\n",
    "\n",
    "class CINN(nn.Module):\n",
    "    def __init__(self, num_blocks, num_features, hidden_size, num_layers, cond_hidden_size, cond_num_layers, num_conditions=2):\n",
    "        super(CINN, self).__init__()\n",
    "\n",
    "        self.num_blocks = num_blocks\n",
    "\n",
    "\n",
    "        for i in range(num_blocks - 1):\n",
    "            setattr(\n",
    "                self,\n",
    "                f\"cl_{i}\",\n",
    "                CouplingLayer(\n",
    "                    num_features, hidden_size, num_layers, num_conds = 4* num_conditions),\n",
    "            )\n",
    "\n",
    "        self.last_block = CouplingLayer(\n",
    "            num_features, hidden_size, num_layers, num_conds = 4* num_conditions\n",
    "        )\n",
    "\n",
    "        self.condition = SimpleFCNN(num_conditions, cond_hidden_size, 4* num_conditions*num_blocks, cond_num_layers)\n",
    "\n",
    "    def forward(self, x, cond):\n",
    "        log_det_J = 0\n",
    "        conds = self.condition.forward(cond)\n",
    "        conds = th.tensor_split(conds, self.num_blocks, dim=1)\n",
    "        for i in range(self.num_blocks - 1):\n",
    "            x, _log_det_J = getattr(self, f\"cl_{i}\").forward(x, conds[i])\n",
    "            x = x[:,[2, 6, 3, 1, 0, 4, 5]]\n",
    "            log_det_J += _log_det_J\n",
    "            \n",
    "        x, _log_det_J = self.last_block.forward(x, conds[-1])\n",
    "        log_det_J += _log_det_J\n",
    "        return x, log_det_J\n",
    "\n",
    "    def backward(self, x, cond):\n",
    "        conds = self.condition.forward(cond)\n",
    "        conds = th.tensor_split(conds, self.num_blocks, dim=1)\n",
    "        x = self.last_block.backward(x, conds[-1])\n",
    "        for i in range(self.num_blocks - 2, -1, -1):\n",
    "            x = x[:,[4, 3, 0, 2, 5, 6, 1]]\n",
    "            x = getattr(self, f\"cl_{i}\").backward(x, conds[i])\n",
    "        return x\n",
    "    \n"
   ]
  },
  {
   "cell_type": "code",
   "execution_count": 25,
   "metadata": {},
   "outputs": [],
   "source": [
    "class Loss(nn.Module):\n",
    "    def __init__(self):\n",
    "        super(Loss, self).__init__()\n",
    "    \n",
    "    def Isotropic_Gaussian(self, x):\n",
    "        xx = th.sum(x ** 2, axis=1)    \n",
    "        return -0.5 * (xx - 2*th.log(th.tensor(2 * th.pi)))\n",
    "\n",
    "    def forward(self, x, log_det_J, model, y, lambda_1 = 1e-3):\n",
    "        mse_penalty = th.nn.MSELoss(size_average=False)\n",
    "        reg_loss = 0\n",
    "\n",
    "        mseloss =th.nn.MSELoss(size_average=False)\n",
    "        n = x.shape[0]\n",
    "        \n",
    "        for param in model.parameters():\n",
    "            reg_loss += mse_penalty(param, th.zeros_like(param)) #\n",
    "        return -th.sum(self.Isotropic_Gaussian(x) + log_det_J),  -th.sum(self.Isotropic_Gaussian(x) + log_det_J)"
   ]
  },
  {
   "cell_type": "code",
   "execution_count": 26,
   "metadata": {},
   "outputs": [],
   "source": [
    "num_features = 7  # Number of features in the input\n",
    "hidden_size = 8  # Number of hidden units in the FCNN\n",
    "num_layers = 8  # Number of layers in the FCNN\n",
    "num_blocks = 16  # Number of coupling layers in the flow\n",
    "num_conditions = 2  # Number of conditions\n",
    "cond_hidden_size = 16  # Number of hidden units in the FCNN for the conditions\n",
    "cond_num_layers = 4  # Number of layers in the FCNN for the conditions\n",
    "\n",
    "\n",
    "# Initialize the flow\n",
    "flow = CINN(num_blocks, num_features, hidden_size, num_layers, cond_hidden_size, cond_num_layers, num_conditions)\n",
    "\n",
    "# Initialize the loss\n",
    "lossfunc = Loss()\n",
    "flow.to(device)\n",
    "loss_arr = []\n",
    "\n",
    "n = 1000\n",
    "x, y = data_generator(n)"
   ]
  },
  {
   "cell_type": "code",
   "execution_count": 27,
   "metadata": {},
   "outputs": [
    {
     "name": "stdout",
     "output_type": "stream",
     "text": [
      "Epoch: 0 Loss: 102279.53125\n",
      "Epoch: 100 Loss: 77421.125\n",
      "Epoch: 200 Loss: 68071.078125\n",
      "Epoch: 300 Loss: 56700.90625\n",
      "Epoch: 400 Loss: 40939.890625\n",
      "Epoch: 500 Loss: 24379.12890625\n",
      "Epoch: 600 Loss: 12682.7548828125\n",
      "Epoch: 700 Loss: 7412.47314453125\n",
      "Epoch: 800 Loss: 5704.921875\n",
      "Epoch: 900 Loss: 4332.74560546875\n",
      "Epoch: 1000 Loss: 3113.1064453125\n",
      "Epoch: 1100 Loss: 2059.241943359375\n",
      "Epoch: 1200 Loss: 1440.195556640625\n",
      "Epoch: 1300 Loss: 1073.9405517578125\n",
      "Epoch: 1400 Loss: 670.8994140625\n",
      "Epoch: 1500 Loss: 120.38652038574219\n",
      "Epoch: 1600 Loss: 194.062744140625\n",
      "Epoch: 1700 Loss: -510.8970947265625\n",
      "Epoch: 1800 Loss: -835.248046875\n",
      "Epoch: 1900 Loss: -1156.0435791015625\n",
      "Epoch: 2000 Loss: -1363.7633056640625\n",
      "Epoch: 2100 Loss: -1667.402099609375\n",
      "Epoch: 2200 Loss: -1721.9066162109375\n",
      "Epoch: 2300 Loss: -1959.1566162109375\n",
      "Epoch: 2400 Loss: -2170.1396484375\n",
      "Epoch: 2500 Loss: -2332.20703125\n",
      "Epoch: 2600 Loss: -2470.13427734375\n",
      "Epoch: 2700 Loss: -2584.681884765625\n",
      "Epoch: 2800 Loss: -2713.470458984375\n",
      "Epoch: 2900 Loss: -2847.419921875\n",
      "Epoch: 3000 Loss: -2958.679931640625\n",
      "Epoch: 3100 Loss: -3050.415283203125\n",
      "Epoch: 3200 Loss: -3177.43896484375\n",
      "Epoch: 3300 Loss: -3321.39599609375\n",
      "Epoch: 3400 Loss: -3496.639404296875\n",
      "Epoch: 3500 Loss: -3584.598388671875\n",
      "Epoch: 3600 Loss: -3727.8388671875\n",
      "Epoch: 3700 Loss: -3816.496337890625\n",
      "Epoch: 3800 Loss: -3985.07080078125\n",
      "Epoch: 3900 Loss: -4102.08349609375\n",
      "Epoch: 4000 Loss: -4093.162353515625\n",
      "Epoch: 4100 Loss: -4250.421875\n",
      "Epoch: 4200 Loss: -4413.7041015625\n",
      "Epoch: 4300 Loss: -4435.861328125\n",
      "Epoch: 4400 Loss: -4649.271484375\n",
      "Epoch: 4500 Loss: -4603.2685546875\n",
      "Epoch: 4600 Loss: -4826.28662109375\n",
      "Epoch: 4700 Loss: -4941.3447265625\n",
      "Epoch: 4800 Loss: -4923.033203125\n",
      "Epoch: 4900 Loss: -4968.29931640625\n",
      "Epoch: 5000 Loss: -5141.0341796875\n",
      "Epoch: 5100 Loss: -5125.36767578125\n",
      "Epoch: 5200 Loss: -5183.849609375\n",
      "Epoch: 5300 Loss: -5112.03955078125\n",
      "Epoch: 5400 Loss: -5308.40185546875\n",
      "Epoch: 5500 Loss: -5418.0126953125\n",
      "Epoch: 5600 Loss: -5378.74560546875\n",
      "Epoch: 5700 Loss: -5406.716796875\n",
      "Epoch: 5800 Loss: -5672.78515625\n",
      "Epoch: 5900 Loss: -5483.31640625\n",
      "Epoch: 6000 Loss: -5688.8388671875\n",
      "Epoch: 6100 Loss: -5925.10107421875\n",
      "Epoch: 6200 Loss: -5970.32373046875\n",
      "Epoch: 6300 Loss: -6015.7724609375\n",
      "Epoch: 6400 Loss: -6152.07666015625\n",
      "Epoch: 6500 Loss: -6121.748046875\n",
      "Epoch: 6600 Loss: -6094.18310546875\n",
      "Epoch: 6700 Loss: -6197.9375\n",
      "Epoch: 6800 Loss: -6136.697265625\n",
      "Epoch: 6900 Loss: -6159.05810546875\n",
      "Epoch: 7000 Loss: -6264.89892578125\n",
      "Epoch: 7100 Loss: -6355.330078125\n",
      "Epoch: 7200 Loss: -6437.42529296875\n",
      "Epoch: 7300 Loss: -6517.02392578125\n",
      "Epoch: 7400 Loss: -6539.23291015625\n",
      "Epoch: 7500 Loss: -6510.06201171875\n",
      "Epoch: 7600 Loss: -6450.6630859375\n",
      "Epoch: 7700 Loss: -6680.158203125\n",
      "Epoch: 7800 Loss: -6541.0751953125\n",
      "Epoch: 7900 Loss: -6621.79736328125\n",
      "Epoch: 8000 Loss: -6628.19482421875\n",
      "Epoch: 8100 Loss: -6753.00732421875\n",
      "Epoch: 8200 Loss: -6663.392578125\n",
      "Epoch: 8300 Loss: -6658.771484375\n",
      "Epoch: 8400 Loss: -6713.9013671875\n",
      "Epoch: 8500 Loss: -6765.97900390625\n",
      "Epoch: 8600 Loss: -6745.71923828125\n",
      "Epoch: 8700 Loss: -6823.94677734375\n",
      "Epoch: 8800 Loss: -6701.232421875\n",
      "Epoch: 8900 Loss: -6865.34619140625\n",
      "Epoch: 9000 Loss: -6866.60791015625\n",
      "Epoch: 9100 Loss: -6853.4462890625\n",
      "Epoch: 9200 Loss: -6933.0966796875\n",
      "Epoch: 9300 Loss: -6912.740234375\n",
      "Epoch: 9400 Loss: -6984.6708984375\n",
      "Epoch: 9500 Loss: -6871.3291015625\n",
      "Epoch: 9600 Loss: -6884.927734375\n",
      "Epoch: 9700 Loss: -6839.97021484375\n",
      "Epoch: 9800 Loss: -7124.5380859375\n",
      "Epoch: 9900 Loss: -6977.169921875\n",
      "Epoch: 10000 Loss: -7009.80419921875\n",
      "Epoch: 10100 Loss: -7019.56298828125\n",
      "Epoch: 10200 Loss: -7035.54296875\n",
      "Epoch: 10300 Loss: -7121.95947265625\n",
      "Epoch: 10400 Loss: -7071.25146484375\n",
      "Epoch: 10500 Loss: -7085.30908203125\n",
      "Epoch: 10600 Loss: -7088.60302734375\n",
      "Epoch: 10700 Loss: -7101.95361328125\n",
      "Epoch: 10800 Loss: -7155.9833984375\n",
      "Epoch: 10900 Loss: -7113.20166015625\n",
      "Epoch: 11000 Loss: -7141.619140625\n",
      "Epoch: 11100 Loss: -7192.3193359375\n",
      "Epoch: 11200 Loss: -7154.509765625\n",
      "Epoch: 11300 Loss: -7172.83544921875\n",
      "Epoch: 11400 Loss: -7177.8447265625\n",
      "Epoch: 11500 Loss: -6793.3359375\n",
      "Epoch: 11600 Loss: -7257.009765625\n",
      "Epoch: 11700 Loss: -7208.1845703125\n",
      "Epoch: 11800 Loss: -7219.43310546875\n",
      "Epoch: 11900 Loss: -7256.4345703125\n",
      "Epoch: 12000 Loss: -7257.85400390625\n",
      "Epoch: 12100 Loss: -7242.810546875\n",
      "Epoch: 12200 Loss: -7263.44189453125\n",
      "Epoch: 12300 Loss: -7286.07568359375\n",
      "Epoch: 12400 Loss: -7187.59375\n",
      "Epoch: 12500 Loss: -7283.6748046875\n",
      "Epoch: 12600 Loss: -7325.62646484375\n",
      "Epoch: 12700 Loss: -7335.8701171875\n",
      "Epoch: 12800 Loss: -7356.48291015625\n",
      "Epoch: 12900 Loss: -7362.3662109375\n",
      "Epoch: 13000 Loss: -7356.55029296875\n",
      "Epoch: 13100 Loss: -7325.0869140625\n",
      "Epoch: 13200 Loss: -7340.357421875\n",
      "Epoch: 13300 Loss: -7364.97607421875\n",
      "Epoch: 13400 Loss: -7404.1708984375\n",
      "Epoch: 13500 Loss: -7382.79833984375\n",
      "Epoch: 13600 Loss: -7432.4501953125\n",
      "Epoch: 13700 Loss: -7431.9892578125\n",
      "Epoch: 13800 Loss: -7430.60205078125\n",
      "Epoch: 13900 Loss: -7381.3828125\n",
      "Epoch: 14000 Loss: -7407.169921875\n",
      "Epoch: 14100 Loss: -7428.76953125\n",
      "Epoch: 14200 Loss: -7344.92822265625\n",
      "Epoch: 14300 Loss: -7437.005859375\n",
      "Epoch: 14400 Loss: -7424.080078125\n",
      "Epoch: 14500 Loss: -7429.0029296875\n",
      "Epoch: 14600 Loss: -7479.16650390625\n",
      "Epoch: 14700 Loss: -7471.1806640625\n",
      "Epoch: 14800 Loss: -7486.92333984375\n",
      "Epoch: 14900 Loss: -7480.5390625\n",
      "Epoch: 15000 Loss: -7482.56005859375\n",
      "Epoch: 15100 Loss: -7522.0283203125\n",
      "Epoch: 15200 Loss: -7538.18310546875\n",
      "Epoch: 15300 Loss: -7557.0576171875\n",
      "Epoch: 15400 Loss: -7530.7705078125\n",
      "Epoch: 15500 Loss: -7503.84814453125\n",
      "Epoch: 15600 Loss: -7507.4814453125\n",
      "Epoch: 15700 Loss: -7510.1650390625\n",
      "Epoch: 15800 Loss: -7525.51611328125\n",
      "Epoch: 15900 Loss: -7091.74169921875\n",
      "Epoch: 16000 Loss: -7571.5224609375\n",
      "Epoch: 16100 Loss: -7551.2109375\n",
      "Epoch: 16200 Loss: -7533.8671875\n",
      "Epoch: 16300 Loss: -7546.1728515625\n",
      "Epoch: 16400 Loss: -7549.74609375\n",
      "Epoch: 16500 Loss: -7587.02392578125\n",
      "Epoch: 16600 Loss: -7591.96240234375\n",
      "Epoch: 16700 Loss: -7597.140625\n",
      "Epoch: 16800 Loss: -7555.6484375\n",
      "Epoch: 16900 Loss: -7623.708984375\n",
      "Epoch: 17000 Loss: -7522.59912109375\n",
      "Epoch: 17100 Loss: -7631.32763671875\n",
      "Epoch: 17200 Loss: -7702.228515625\n",
      "Epoch: 17300 Loss: -7553.0380859375\n",
      "Epoch: 17400 Loss: -7674.8876953125\n",
      "Epoch: 17500 Loss: -7650.5517578125\n",
      "Epoch: 17600 Loss: -7702.861328125\n",
      "Epoch: 17700 Loss: -7648.3779296875\n",
      "Epoch: 17800 Loss: -7676.8447265625\n",
      "Epoch: 17900 Loss: -7665.330078125\n",
      "Epoch: 18000 Loss: -7677.1337890625\n",
      "Epoch: 18100 Loss: -7692.27978515625\n",
      "Epoch: 18200 Loss: -7530.232421875\n",
      "Epoch: 18300 Loss: -7667.7021484375\n",
      "Epoch: 18400 Loss: -7694.712890625\n",
      "Epoch: 18500 Loss: -7694.9873046875\n",
      "Epoch: 18600 Loss: -7708.916015625\n",
      "Epoch: 18700 Loss: -7732.22314453125\n",
      "Epoch: 18800 Loss: -7724.95361328125\n",
      "Epoch: 18900 Loss: -7744.650390625\n",
      "Epoch: 19000 Loss: -7720.9990234375\n",
      "Epoch: 19100 Loss: -7711.58349609375\n",
      "Epoch: 19200 Loss: -7748.46435546875\n",
      "Epoch: 19300 Loss: -7759.9716796875\n",
      "Epoch: 19400 Loss: -7756.06640625\n",
      "Epoch: 19500 Loss: -7768.3994140625\n",
      "Epoch: 19600 Loss: -7762.560546875\n",
      "Epoch: 19700 Loss: -7774.0205078125\n",
      "Epoch: 19800 Loss: -7615.74072265625\n",
      "Epoch: 19900 Loss: -7656.91552734375\n",
      "Epoch: 20000 Loss: -7800.18994140625\n",
      "Epoch: 20100 Loss: -7812.1650390625\n",
      "Epoch: 20200 Loss: -7370.0888671875\n",
      "Epoch: 20300 Loss: -7786.63525390625\n",
      "Epoch: 20400 Loss: -7821.83642578125\n",
      "Epoch: 20500 Loss: -7834.85498046875\n",
      "Epoch: 20600 Loss: -7836.44091796875\n",
      "Epoch: 20700 Loss: -7502.91259765625\n",
      "Epoch: 20800 Loss: -7882.9228515625\n",
      "Epoch: 20900 Loss: -7857.59521484375\n",
      "Epoch: 21000 Loss: -7879.126953125\n",
      "Epoch: 21100 Loss: -7865.38427734375\n",
      "Epoch: 21200 Loss: -7874.1630859375\n",
      "Epoch: 21300 Loss: -7879.68359375\n",
      "Epoch: 21400 Loss: -7924.48974609375\n",
      "Epoch: 21500 Loss: -7820.0908203125\n",
      "Epoch: 21600 Loss: -7561.15673828125\n",
      "Epoch: 21700 Loss: -7973.419921875\n",
      "Epoch: 21800 Loss: -7483.26416015625\n",
      "Epoch: 21900 Loss: -7951.8349609375\n",
      "Epoch: 22000 Loss: -7916.7705078125\n",
      "Epoch: 22100 Loss: -7914.71826171875\n",
      "Epoch: 22200 Loss: -7954.44287109375\n",
      "Epoch: 22300 Loss: -7934.02197265625\n",
      "Epoch: 22400 Loss: -7976.556640625\n",
      "Epoch: 22500 Loss: -7968.31494140625\n",
      "Epoch: 22600 Loss: -7960.603515625\n",
      "Epoch: 22700 Loss: -7943.68115234375\n",
      "Epoch: 22800 Loss: -7972.85986328125\n",
      "Epoch: 22900 Loss: -8007.37646484375\n",
      "Epoch: 23000 Loss: -7987.9111328125\n",
      "Epoch: 23100 Loss: -7998.19775390625\n",
      "Epoch: 23200 Loss: -7987.3427734375\n",
      "Epoch: 23300 Loss: -7950.69580078125\n",
      "Epoch: 23400 Loss: -8041.80517578125\n",
      "Epoch: 23500 Loss: -8019.37109375\n",
      "Epoch: 23600 Loss: -8025.25830078125\n",
      "Epoch: 23700 Loss: -8015.49365234375\n",
      "Epoch: 23800 Loss: -7970.5283203125\n",
      "Epoch: 23900 Loss: -8078.7265625\n",
      "Epoch: 24000 Loss: -8027.3076171875\n",
      "Epoch: 24100 Loss: -8058.7138671875\n",
      "Epoch: 24200 Loss: -8046.03515625\n",
      "Epoch: 24300 Loss: -8096.3505859375\n",
      "Epoch: 24400 Loss: -8061.2353515625\n",
      "Epoch: 24500 Loss: -8067.8671875\n",
      "Epoch: 24600 Loss: -8079.9443359375\n",
      "Epoch: 24700 Loss: -8090.3076171875\n",
      "Epoch: 24800 Loss: -8085.966796875\n",
      "Epoch: 24900 Loss: -7755.09619140625\n",
      "Epoch: 25000 Loss: -8105.66845703125\n"
     ]
    }
   ],
   "source": [
    "optimizer = th.optim.RMSprop(\n",
    "    [\n",
    "        {\"params\": flow.parameters(), \"lr\": 1e-4},\n",
    "    ]\n",
    ")\n",
    "dataloader = th.utils.data.DataLoader(list(zip(x, y)), batch_size=2000, shuffle=True)\n",
    "# sheduler = th.optim.lr_scheduler.StepLR(optimizer, step_size=10000, gamma=0.1)\n",
    "for i in range(25001):\n",
    "    epochloss = 0\n",
    "    epochcounter = 0\n",
    "    epochcleanedloss = 0\n",
    "    for x_batch , y_batch in dataloader:\n",
    "        optimizer.zero_grad()\n",
    "        loss = 0.0\n",
    "        y_pred, log_det_J = flow.forward(x_batch.float(), y_batch.float())\n",
    "        loss, cleaned_loss = lossfunc.forward(y_pred.float(), log_det_J, flow, y_batch.float())\n",
    "        epochloss += loss\n",
    "        epochcleanedloss += cleaned_loss\n",
    "        epochcounter += 1\n",
    "        loss_arr.append(cleaned_loss.cpu().item())\n",
    "        loss.backward()\n",
    "\n",
    "        optimizer.step()\n",
    "        # sheduler.step()\n",
    "    if i % 100 == 0:\n",
    "        print(\"Epoch: \" + str(i) + \" Loss: \" + str(epochloss.item()/epochcounter))\n"
   ]
  },
  {
   "cell_type": "code",
   "execution_count": 28,
   "metadata": {},
   "outputs": [
    {
     "data": {
      "text/plain": [
       "Text(0, 0.5, 'Negative Log Likelihood')"
      ]
     },
     "execution_count": 28,
     "metadata": {},
     "output_type": "execute_result"
    },
    {
     "data": {
      "image/png": "[encoded data removed]",
      "text/plain": [
       "<Figure size 640x480 with 1 Axes>"
      ]
     },
     "metadata": {},
     "output_type": "display_data"
    }
   ],
   "source": [
    "plt.plot(loss_arr)\n",
    "plt.ylim(-10000, 6000)\n",
    "plt.xlabel(\"Epochs\")\n",
    "plt.ylabel(\"Negative Log Likelihood\")"
   ]
  },
  {
   "cell_type": "code",
   "execution_count": 29,
   "metadata": {},
   "outputs": [
    {
     "name": "stdout",
     "output_type": "stream",
     "text": [
      "0.01\n"
     ]
    },
    {
     "data": {
      "text/plain": [
       "<matplotlib.legend.Legend at 0x123519700>"
      ]
     },
     "execution_count": 29,
     "metadata": {},
     "output_type": "execute_result"
    },
    {
     "data": {
      "image/png": "[encoded data removed]",
      "text/plain": [
       "<Figure size 640x480 with 1 Axes>"
      ]
     },
     "metadata": {},
     "output_type": "display_data"
    }
   ],
   "source": [
    "n = 1000\n",
    "target = [30.0, 10.0]\n",
    "samples = th.tensor(np.random.normal([0, 0, 0, 0, 0, 0, 0], 1, size = (n, 7))).to(device)\n",
    "y = [target] * n\n",
    "y = th.tensor(y).to(device)\n",
    "result = flow.backward(samples.float(), y.float()).detach()\n",
    "\n",
    "print(dt)\n",
    "import matplotlib.pyplot as plt\n",
    "result_x, result_y = simulate_lotka_volterra(result[:, 3], result[:, 4], result[:, 5], result[:, 6], result[:, 0], result[:, 1], result[:, 2], dt, 10)\n",
    "col_red = '#c61826'\n",
    "col_dark_red = '#590d08'\n",
    "col_blue = '#01024d'\n",
    "plt.scatter(result_x, result_y, s = 20, c = col_red, alpha = 1, label='Forward Simulation of generated samples')\n",
    "plt.scatter(target[0], target[1], marker = '^',s = 40, alpha = 1, c=col_blue, label='Original Condition')\n",
    "plt.xlim(target[0]-10, target[0]+10)\n",
    "plt.ylim(target[1]-10, target[1]+10)\n",
    "plt.xlabel('Prey')\n",
    "plt.ylabel('Predator')\n",
    "plt.legend()\n"
   ]
  },
  {
   "cell_type": "code",
   "execution_count": 30,
   "metadata": {},
   "outputs": [
    {
     "name": "stdout",
     "output_type": "stream",
     "text": [
      "29.471006 9.680332\n"
     ]
    }
   ],
   "source": [
    "print(np.mean(result_x.detach().numpy()), np.mean(result_y.detach().numpy()))"
   ]
  },
  {
   "cell_type": "code",
   "execution_count": 31,
   "metadata": {},
   "outputs": [
    {
     "name": "stdout",
     "output_type": "stream",
     "text": [
      "tensor([[ 1.7016, -0.0888],\n",
      "        [-0.0888,  0.1205]])\n"
     ]
    }
   ],
   "source": [
    "concatenated_array = th.stack([result_x, result_y])\n",
    "print(th.cov(concatenated_array))"
   ]
  },
  {
   "cell_type": "code",
   "execution_count": 32,
   "metadata": {},
   "outputs": [
    {
     "name": "stdout",
     "output_type": "stream",
     "text": [
      "1.2672983\n"
     ]
    }
   ],
   "source": [
    "print(np.mean(np.sqrt((result_x.detach().numpy() - target[0])**2 + (result_y.detach().numpy() - target[1])**2)))"
   ]
  },
  {
   "cell_type": "code",
   "execution_count": 33,
   "metadata": {},
   "outputs": [
    {
     "name": "stdout",
     "output_type": "stream",
     "text": [
      "4.8232484\n"
     ]
    }
   ],
   "source": [
    "print(np.max(np.sqrt((result_x.detach().numpy() - target[0])**2 + (result_y.detach().numpy() - target[1])**2)))"
   ]
  },
  {
   "cell_type": "code",
   "execution_count": 34,
   "metadata": {},
   "outputs": [
    {
     "name": "stdout",
     "output_type": "stream",
     "text": [
      "0.04243386\n"
     ]
    }
   ],
   "source": [
    "print(np.min(np.sqrt((result_x.detach().numpy() - target[0])**2 + (result_y.detach().numpy() - target[1])**2)))"
   ]
  },
  {
   "cell_type": "code",
   "execution_count": 35,
   "metadata": {},
   "outputs": [],
   "source": [
    "def MMD(x, y):\n",
    "        gamma = 2\n",
    "        xx, yy, zz = th.mm(x, x.t()), th.mm(y, y.t()), th.mm(x, y.t())\n",
    "        rx = (xx.diag().unsqueeze(0).expand_as(xx))\n",
    "        ry = (yy.diag().unsqueeze(0).expand_as(yy))\n",
    "\n",
    "        dxx = rx.t() + rx - 2. * xx # Used for A in (1)\n",
    "        dyy = ry.t() + ry - 2. * yy # Used for B in (1)\n",
    "        rxx = rx[0].repeat(y.shape[0], 1)\n",
    "        ryy = ry[0].repeat(x.shape[0], 1) \n",
    "        dxy = rxx.t() + ryy - 2. * zz # Used for C in (1)\n",
    "\n",
    "        XX, YY, XY = (th.zeros(xx.shape).to(device),\n",
    "                      th.zeros(yy.shape).to(device),\n",
    "                      th.zeros(zz.shape).to(device))\n",
    "        XX += 1/(1 + dxx/gamma**2)\n",
    "        YY += 1/(1 + dyy/gamma**2)\n",
    "        XY += 1/(1 + dxy/gamma**2)\n",
    "        return XX.mean() + YY.mean() - 2*XY.mean()"
   ]
  },
  {
   "cell_type": "code",
   "execution_count": 36,
   "metadata": {},
   "outputs": [
    {
     "name": "stdout",
     "output_type": "stream",
     "text": [
      "tensor(0.2589)\n"
     ]
    }
   ],
   "source": [
    "print(MMD(x.float(), result.float()))"
   ]
  }
 ],
 "metadata": {
  "kernelspec": {
   "display_name": "Python 3",
   "language": "python",
   "name": "python3"
  },
  "language_info": {
   "codemirror_mode": {
    "name": "ipython",
    "version": 3
   },
   "file_extension": ".py",
   "mimetype": "text/x-python",
   "name": "python",
   "nbconvert_exporter": "python",
   "pygments_lexer": "ipython3",
   "version": "3.12.2"
  }
 },
 "nbformat": 4,
 "nbformat_minor": 2
}
