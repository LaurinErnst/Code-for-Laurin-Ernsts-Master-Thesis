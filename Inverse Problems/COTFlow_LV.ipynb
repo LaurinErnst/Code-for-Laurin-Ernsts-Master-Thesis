{
 "cells": [
  {
   "cell_type": "code",
   "execution_count": 42,
   "metadata": {},
   "outputs": [],
   "source": [
    "import torch\n",
    "from torch import nn\n",
    "import numpy as np\n",
    "from torch import distributions\n",
    "from sklearn import datasets\n",
    "import matplotlib.pyplot as plt\n",
    "from torch.nn.functional import pad\n",
    "import copy"
   ]
  },
  {
   "cell_type": "code",
   "execution_count": 43,
   "metadata": {},
   "outputs": [],
   "source": [
    "def antiderivTanh(x): # activation function aka the antiderivative of tanh\n",
    "    return torch.abs(x) + torch.log(1+torch.exp(-2.0*torch.abs(x)))\n",
    "\n",
    "def derivTanh(x): # act'' aka the second derivative of the activation function antiderivTanh\n",
    "    return 1 - torch.pow( torch.tanh(x) , 2 )\n",
    "\n",
    "class ResNN(nn.Module):\n",
    "    def __init__(self, m, dx, dy=0, nTh=2):\n",
    "        \"\"\"\n",
    "            ResNet N portion of Phi\n",
    "        :param d:   int, dimension of space input (expect inputs to be d+1 for space-time)\n",
    "        :param m:   int, hidden dimension\n",
    "        :param nTh: int, number of resNet layers , (number of theta layers)\n",
    "        \"\"\"\n",
    "        super().__init__()\n",
    "\n",
    "        if nTh < 2:\n",
    "            print(\"nTh must be an integer >= 2\")\n",
    "            exit(1)\n",
    "\n",
    "        self.dx = dx\n",
    "        self.dy = dy\n",
    "        self.m = m\n",
    "        self.nTh = nTh\n",
    "        self.layers = nn.ModuleList([])\n",
    "        self.layers.append(nn.Linear(dx + dy + 1, m, bias=True)) # opening layer\n",
    "        self.layers.append(nn.Linear(m,m, bias=True)) # resnet layers\n",
    "        for i in range(nTh-3):\n",
    "            self.layers.append(copy.deepcopy(self.layers[1]))\n",
    "        self.layers.append(nn.Linear(m,1, bias=True)) # resnet layers\n",
    "        self.act = antiderivTanh\n",
    "        self.h = 1.0 / (self.nTh-1) # step size for the ResNet\n",
    "\n",
    "    def forward(self, x, y=None):\n",
    "        \"\"\"\n",
    "            N(s;theta). the forward propogation of the ResNet\n",
    "        :param x: tensor nex-by-d+1, inputs\n",
    "        :return:  tensor nex-by-m,   outputs\n",
    "        \"\"\"\n",
    "        if y is not None:\n",
    "            xy = torch.cat((x,y),1)\n",
    "        else:\n",
    "            xy = x\n",
    "\n",
    "        xy = self.act(self.layers[0].forward(xy))\n",
    "\n",
    "        for i in range(1,self.nTh):\n",
    "            xy = xy + self.h * self.act(self.layers[i](xy))\n",
    "\n",
    "        return xy\n",
    "\n",
    "\n",
    "\n",
    "class Phi(nn.Module):\n",
    "    def __init__(self, nTh, m, dx,dy=0, r=10, alph=[1.0] * 5):\n",
    "        \"\"\"\n",
    "            neural network approximating Phi (see Eq. (9) in our paper)\n",
    "\n",
    "            Phi( x,t ) = w'*ResNet( [x;t]) + 0.5*[x' t] * A'A * [x;t] + b'*[x;t] + c\n",
    "\n",
    "        :param nTh:  int, number of resNet layers , (number of theta layers)\n",
    "        :param m:    int, hidden dimension\n",
    "        :param d:    int, dimension of space input (expect inputs to be d+1 for space-time)\n",
    "        :param r:    int, rank r for the A matrix\n",
    "        :param alph: list, alpha values / weighted multipliers for the optimization problem\n",
    "        \"\"\"\n",
    "        super().__init__()\n",
    "\n",
    "        self.m    = m\n",
    "        self.nTh  = nTh\n",
    "        self.dx = dx\n",
    "        self.dy = dy\n",
    "        self.alph = alph\n",
    "\n",
    "        r = min(r,dx+dy+1) # if number of dimensions is smaller than default r, use that\n",
    "\n",
    " \n",
    "        self.N = ResNN(m, dx,dy, nTh=nTh)\n",
    "\n",
    "        # set initial values\n",
    "  \n",
    "\n",
    "\n",
    "    def forward(self, x, y=None):\n",
    "        \"\"\" calculating Phi(s, theta)...not used in OT-Flow \"\"\"\n",
    "        if y is not None:\n",
    "            xy = torch.cat((x,y),1)\n",
    "        else:\n",
    "            xy = x\n",
    "\n",
    "        return self.N(x,y)\n",
    "\n",
    "\n",
    "    def trHess(self,x,y, justGrad=False ):\n",
    "        \"\"\"\n",
    "        compute gradient of Phi wrt x and trace(Hessian of Phi); see Eq. (11) and Eq. (13), respectively\n",
    "        recomputes the forward propogation portions of Phi\n",
    "\n",
    "        :param x: input data, torch Tensor nex-by-d\n",
    "        :param justGrad: boolean, if True only return gradient, if False return (grad, trHess)\n",
    "        :return: gradient , trace(hessian)    OR    just gradient\n",
    "        \"\"\"\n",
    "\n",
    "        # code in E = eye(d+1,d) as index slicing instead of matrix multiplication\n",
    "        # assumes specific N.act as the antiderivative of tanh\n",
    "\n",
    "        if y is not None:\n",
    "            xy = torch.cat((x,y),1)\n",
    "        else:\n",
    "            xy = x\n",
    "\n",
    "        N    = self.N\n",
    "        m    = N.layers[0].weight.shape[0]\n",
    "        nex  = x.shape[0] # number of examples in the batch\n",
    "        dx    = x.shape[1]-1\n",
    "\n",
    "        u = [] # hold the u_0,u_1,...,u_M for the forward pass\n",
    "        z = N.nTh*[None] # hold the z_0,z_1,...,z_M for the backward pass\n",
    "        # preallocate z because we will store in the backward pass and we want the indices to match the paper\n",
    "\n",
    "        # Forward of ResNet N and fill u\n",
    "        opening     = N.layers[0].forward(xy) # K_0 * S + b_0\n",
    "        u.append(N.act(opening)) # u0\n",
    "        feat = u[0]\n",
    "\n",
    "        for i in range(1,N.nTh):\n",
    "            feat = feat + N.h * N.act(N.layers[i](feat))\n",
    "            u.append(feat)\n",
    "\n",
    "        # going to be used more than once\n",
    "        tanhopen = torch.tanh(opening) # act'( K_0 * S + b_0 )\n",
    "\n",
    "        # compute gradient and fill z\n",
    "        for i in range(N.nTh-2,0,-1): # work backwards, placing z_i in appropriate spot\n",
    "            if i == N.nTh-2:\n",
    "                z[i+1] = N.layers[N.nTh-1].weight.t() # z_M = K_M^T\n",
    "\n",
    "            term = z[i+1]\n",
    "            # z_i = z_{i+1} + h K_i' diag(...) z_{i+1}\n",
    "            z[i] = term + N.h * torch.mm( N.layers[i].weight.t() , torch.tanh( N.layers[i].forward(u[i-1]) ).t() * term)\n",
    "\n",
    "        # z_0 = K_0' diag(...) z_1\n",
    "        z[0] = torch.mm( N.layers[0].weight.t() , tanhopen.t() * z[1] )\n",
    "        grad = z[0]\n",
    "\n",
    "        if justGrad:\n",
    "            return grad.t()\n",
    "\n",
    "        # -----------------\n",
    "        # trace of Hessian\n",
    "        #-----------------\n",
    "\n",
    "        # t_0, the trace of the opening layer\n",
    "        Kopen = N.layers[0].weight[:,0:dx]    # indexed version of Kopen = torch.mm( N.layers[0].weight, E  )\n",
    "        temp  = derivTanh(opening.t()) * z[1]\n",
    "        trH  = torch.sum(temp.reshape(m, -1, nex) * torch.pow(Kopen.unsqueeze(2), 2), dim=(0, 1)) # trH = t_0\n",
    "\n",
    "        # grad_s u_0 ^ T\n",
    "        temp = tanhopen.t()   # act'( K_0 * S + b_0 )\n",
    "        Jac  = Kopen.unsqueeze(2) * temp.unsqueeze(1) # K_0' * act'( K_0 * S + b_0 )\n",
    "        # Jac is shape m by d by nex\n",
    "\n",
    "        # t_i, trace of the resNet layers\n",
    "        # KJ is the K_i^T * grad_s u_{i-1}^T\n",
    "        for i in range(1,N.nTh - 1):\n",
    "            KJ  = torch.mm(N.layers[i].weight , Jac.reshape(m,-1) )\n",
    "            KJ  = KJ.reshape(m,-1,nex)\n",
    "            term = z[i+1]\n",
    "\n",
    "            temp = N.layers[i].forward(u[i-1]).t() # (K_i * u_{i-1} + b_i)\n",
    "            t_i = torch.sum(  ( derivTanh(temp) * term ).reshape(m,-1,nex)  *  torch.pow(KJ,2) ,  dim=(0, 1) )\n",
    "            trH  = trH + N.h * t_i  # add t_i to the accumulate trace\n",
    "            Jac = Jac + N.h * torch.tanh(temp).reshape(m, -1, nex) * KJ # update Jacobian\n",
    "\n",
    "        return grad.t(), trH \n",
    "        # indexed version of: return grad.t() ,  trH + torch.trace( torch.mm( E.t() , torch.mm(  symA , E) ) )\n"
   ]
  },
  {
   "cell_type": "code",
   "execution_count": 44,
   "metadata": {},
   "outputs": [],
   "source": [
    "\n",
    "def vec(x):\n",
    "    \"\"\"vectorize torch tensor x\"\"\"\n",
    "    return x.view(-1,1)\n",
    "\n",
    "\n",
    "def OTFlowProblem(x, y, Phi, tspan, nt, stepper=\"rk4\", alph=[1.0, 1.0, 1.0]):\n",
    "    \"\"\"\n",
    "\n",
    "    Evaluate objective function of OT Flow problem; see Eq. (8) in the paper.\n",
    "\n",
    "    :param x:       input data tensor nex-by-dx\n",
    "    :param y:       input data tensor nex-by-dy\n",
    "    :param Phi:     neural network\n",
    "    :param tspan:   time range to integrate over, ex. [0.0 , 1.0]\n",
    "    :param nt:      number of time steps\n",
    "    :param stepper: string \"rk1\" or \"rk4\" Runge-Kutta schemes\n",
    "    :param alph:    list of length 3, the alpha value multipliers\n",
    "    :return:\n",
    "        Jc - float, objective function value dot(alph,cs)\n",
    "        cs - list length 5, the five computed costs\n",
    "    \"\"\"\n",
    "    h = (tspan[1]-tspan[0]) / nt\n",
    "\n",
    "    # initialize \"hidden\" vector to propogate with all the additional dimensions for all the ODEs\n",
    "    z = pad(x, (0, 3, 0, 0), value=0)\n",
    "\n",
    "    tk = tspan[0]\n",
    "\n",
    "    if stepper=='rk4':\n",
    "        for k in range(nt):\n",
    "            z = stepRK4(odefun, z, y, Phi, alph, tk, tk + h)\n",
    "            tk += h\n",
    "    elif stepper=='rk1':\n",
    "        for k in range(nt):\n",
    "            z = stepRK1(odefun, z, y, Phi, alph, tk, tk + h)\n",
    "            tk += h\n",
    "\n",
    "    # ASSUME all examples are equally weighted\n",
    "    costL  = torch.mean(z[:,-2])\n",
    "    costC  = torch.mean(C(z))\n",
    "    costR  = torch.mean(z[:,-1])\n",
    "\n",
    "    cs = [costL, costC, costR]\n",
    "\n",
    "    # return dot(cs, alph)  , cs\n",
    "    return sum(i[0] * i[1] for i in zip(cs, alph)) , cs\n",
    "\n",
    "\n",
    "def stepRK4(odefun, z, y, Phi, alph, t0, t1):\n",
    "    \"\"\"\n",
    "        Runge-Kutta 4 integration scheme\n",
    "    :param odefun: function to apply at every time step\n",
    "    :param z:      tensor nex-by-d+4, inputs\n",
    "    :param Phi:    Module, the Phi potential function\n",
    "    :param alph:   list, the 3 alpha values for the OT-Flow Problem\n",
    "    :param t0:     float, starting time\n",
    "    :param t1:     float, end time\n",
    "    :return: tensor nex-by-d+4, features at time t1\n",
    "    \"\"\"\n",
    "\n",
    "    h = t1 - t0 # step size\n",
    "    z0 = z\n",
    "\n",
    "    K = h * odefun(z0, y, t0, Phi, alph=alph)\n",
    "    z = z0 + (1.0/6.0) * K\n",
    "\n",
    "    K = h * odefun(z0 + 0.5 * K, y, t0 + (h / 2), Phi, alph=alph)\n",
    "    z += (2.0/6.0) * K\n",
    "\n",
    "    K = h * odefun(z0 + 0.5 * K, y, t0 + (h / 2), Phi, alph=alph)\n",
    "    z += (2.0/6.0) * K\n",
    "\n",
    "    K = h * odefun(z0 + K, y, t0 + h, Phi, alph=alph)\n",
    "    z += (1.0/6.0) * K\n",
    "\n",
    "    return z\n",
    "\n",
    "\n",
    "def stepRK1(odefun, z, y, Phi, alph, t0, t1):\n",
    "    \"\"\"\n",
    "        Runge-Kutta 1 / Forward Euler integration scheme.  Added for comparison, but we recommend stepRK4.\n",
    "    :param odefun: function to apply at every time step\n",
    "    :param z:      tensor nex-by-d+4, inputs\n",
    "    :param Phi:    Module, the Phi potential function\n",
    "    :param alph:   list, the 3 alpha values for the mean field game problem\n",
    "    :param t0:     float, starting time\n",
    "    :param t1:     float, end time\n",
    "    :return: tensor nex-by-d+4, features at time t1\n",
    "    \"\"\"\n",
    "    z += (t1 - t0) * odefun(z, y, t0, Phi, alph=alph)\n",
    "    return z\n",
    "\n",
    "\n",
    "def integrate(x, y, net, tspan, nt, stepper=\"rk4\", alph=[1.0, 1.0, 1.0], intermediates=False):\n",
    "    \"\"\"\n",
    "        perform the time integration in the d-dimensional space\n",
    "    :param x:       input data tensor nex-by-dx\n",
    "    :param y:       input data tensor nex-by-dy\n",
    "    :param net:     neural network Phi\n",
    "    :param tspan:   time range to integrate over, ex. [0.0 , 1.0]\n",
    "    :param nt:      number of time steps\n",
    "    :param stepper: string \"rk1\" or \"rk4\" Runge-Kutta schemes\n",
    "    :param alph:    list of length 3, the alpha value multipliers\n",
    "    :param intermediates: bool, True means save all intermediate time points along trajectories\n",
    "    :return:\n",
    "        z - tensor nex-by-d+4, features at time t1\n",
    "        OR zFull - tensor nex-by-d+3-by-nt+1 , trajectories from time t0 to t1 (when intermediates=True)\n",
    "    \"\"\"\n",
    "\n",
    "    h = (tspan[1]-tspan[0]) / nt\n",
    "\n",
    "    # initialize \"hidden\" vector to propagate with all the additional dimensions for all the ODEs\n",
    "    z = pad(x, (0, 3, 0, 0), value=tspan[0])\n",
    "\n",
    "    tk = tspan[0]\n",
    "\n",
    "    if intermediates: # save the intermediate values as well\n",
    "        zFull = torch.zeros(*z.shape, nt + 1, device=x.device,\n",
    "                            dtype=x.dtype)  # make tensor of size z.shape[0], z.shape[1], nt\n",
    "        zFull[:,:,0] = z\n",
    "\n",
    "        if stepper == 'rk4':\n",
    "            for k in range(nt):\n",
    "                zFull[:, :, k + 1] = stepRK4(odefun, zFull[:, :, k], y, net, alph, tk, tk + h)\n",
    "                tk += h\n",
    "        elif stepper == 'rk1':\n",
    "            for k in range(nt):\n",
    "                zFull[:, :, k + 1] = stepRK1(odefun, zFull[:, :, k], y, net, alph, tk, tk + h)\n",
    "                tk += h\n",
    "\n",
    "        return zFull\n",
    "\n",
    "    else:\n",
    "        if stepper == 'rk4':\n",
    "            for k in range(nt):\n",
    "                z = stepRK4(odefun, z, y, net, alph, tk, tk + h)\n",
    "                tk += h\n",
    "        elif stepper == 'rk1':\n",
    "            for k in range(nt):\n",
    "                z = stepRK1(odefun, z, y, net, alph, tk, tk + h)\n",
    "                tk += h\n",
    "\n",
    "        return z\n",
    "\n",
    "    # return in case of error\n",
    "    return -1\n",
    "\n",
    "\n",
    "\n",
    "def C(z):\n",
    "    \"\"\"Expected negative log-likelihood; see Eq.(3) in the paper\"\"\"\n",
    "    d = z.shape[1]-3\n",
    "    l = z[:,d] # log-det\n",
    "\n",
    "    return -( torch.sum(  -0.5 * torch.log(torch.tensor(2.0)*torch.pi) - torch.pow(z[:,0:d],2) / 2  , 1 , keepdims=True ) + l.unsqueeze(1) )\n",
    "\n",
    "\n",
    "def odefun(x, y, t, net, alph=[1.0, 1.0, 1.0]):\n",
    "    \"\"\"\n",
    "    neural ODE combining the characteristics and log-determinant (see Eq. (2)), the transport costs (see Eq. (5)), and\n",
    "    the HJB regularizer (see Eq. (7)).\n",
    "\n",
    "    d_t  [x ; l ; v ; r] = odefun( [x ; l ; v ; r] , t )\n",
    "\n",
    "    x - particle position\n",
    "    l - log determinant\n",
    "    v - accumulated transport costs (Lagrangian)\n",
    "    r - accumulates violation of HJB condition along trajectory\n",
    "    \"\"\"\n",
    "    nex, d_extra = x.shape\n",
    "    d = d_extra - 3\n",
    "\n",
    "    z = pad(x[:, :d], (0, 1, 0, 0), value=t) # concatenate with the time t\n",
    "\n",
    "    gradPhi, trH = net.trHess(z, y)\n",
    "\n",
    "    dx = -(1.0) * gradPhi[:,0:d]\n",
    "    dl = -(1.0) * trH.unsqueeze(1)\n",
    "    dv = 0.5 * torch.sum(torch.pow(dx, 2) , 1 ,keepdims=True)\n",
    "    dr = torch.abs(-gradPhi[:, d].unsqueeze(1) + alph[0] * dv)\n",
    "\n",
    "    return torch.cat( (dx,dl,dv,dr) , 1  )"
   ]
  },
  {
   "cell_type": "code",
   "execution_count": 45,
   "metadata": {},
   "outputs": [],
   "source": [
    "alpha = 1 #np.random.uniform(0.5, 1.5)\n",
    "beta = 0.1\n",
    "gamma = 0.1\n",
    "delta = 0.02\n",
    "dt = 0.01\n"
   ]
  },
  {
   "cell_type": "code",
   "execution_count": 46,
   "metadata": {},
   "outputs": [],
   "source": [
    "def lotka_volterra(x, y, alpha, beta, gamma, delta, dt):\n",
    "    dx = (alpha * x - beta * x * y) * dt\n",
    "    dy = (-gamma * y + delta * x * y) * dt\n",
    "    return x + dx, y + dy\n",
    "\n",
    "\n",
    "def simulate_lotka_volterra(alpha, beta, gamma, delta, x0, y0, steps, dt, max_steps):\n",
    "    x, y = x0, y0\n",
    "    dt = torch.tensor([dt] * len(steps))\n",
    "    for i in range(max_steps):\n",
    "        dt = torch.where(steps > i, dt, 0)\n",
    "        x, y = lotka_volterra(x, y, alpha, beta, gamma, delta, dt)\n",
    "\n",
    "    return x, y"
   ]
  },
  {
   "cell_type": "code",
   "execution_count": 47,
   "metadata": {},
   "outputs": [],
   "source": [
    "def data_generator(num_samples):\n",
    "\n",
    "    max_steps = 10\n",
    "    steps = torch.tensor(np.random.randint(1, max_steps, num_samples))\n",
    "\n",
    "    x0 = torch.tensor(np.random.randint(1, 40, num_samples))\n",
    "    y0 = torch.tensor(np.random.randint(1, 40, num_samples))\n",
    "    alpha = torch.tensor(np.random.uniform(0.5, 1.5, num_samples))\n",
    "    gamma = torch.tensor(np.random.uniform(0.01, 0.5, num_samples))\n",
    "    beta = torch.tensor(np.random.uniform(0.01, 0.5, num_samples))\n",
    "    delta = torch.tensor(np.random.uniform(0.01, 0.05, num_samples))\n",
    "\n",
    "    x, y = simulate_lotka_volterra(\n",
    "        alpha, beta, gamma, delta, x0, y0, steps, dt, max_steps\n",
    "    )\n",
    "    x = x.unsqueeze(1)\n",
    "    y = y.unsqueeze(1)\n",
    "    steps = steps.unsqueeze(1)\n",
    "    x0 = x0.unsqueeze(1)\n",
    "    y0 = y0.unsqueeze(1)\n",
    "    alpha = alpha.unsqueeze(1)\n",
    "    gamma = gamma.unsqueeze(1)\n",
    "    beta = beta.unsqueeze(1)\n",
    "    delta = delta.unsqueeze(1)\n",
    "    obs = torch.cat([x, y], dim=1)\n",
    "    state = torch.cat([x0, y0, steps, alpha, beta, gamma, delta], dim=1)\n",
    "\n",
    "    return state, obs"
   ]
  },
  {
   "cell_type": "code",
   "execution_count": 48,
   "metadata": {},
   "outputs": [],
   "source": [
    "device = torch.device(\"cuda\" if torch.cuda.is_available() else \"cpu\")"
   ]
  },
  {
   "cell_type": "code",
   "execution_count": 49,
   "metadata": {},
   "outputs": [],
   "source": [
    "nTh = 3# number of layers\n",
    "width = 64 # width of network\n",
    "alph = [1,20,5] # alph[0]-> weight for transport costs, alph[1] and alph[2]-> HJB penalties\n",
    "dimx = 7\n",
    "dimy = 2\n",
    "\n",
    "net = Phi(nTh=nTh, m=width, dx=dimx, dy=dimy, alph=alph)\n",
    "\n",
    "prior = distributions.MultivariateNormal(torch.zeros(dimx).to(device), torch.eye(dimx).to(device))\n",
    "nt = 2\n",
    "x, y = data_generator(1000)\n",
    "batch_size = 1000\n",
    "test_x, test_y = data_generator(100)\n",
    "\n"
   ]
  },
  {
   "cell_type": "code",
   "execution_count": 50,
   "metadata": {},
   "outputs": [
    {
     "name": "stdout",
     "output_type": "stream",
     "text": [
      "Step 0, Jc: 10901.953125, cs: [tensor(0.0507, grad_fn=<MeanBackward0>), tensor(545.0736, grad_fn=<MeanBackward0>), tensor(0.0860, grad_fn=<MeanBackward0>)]\n",
      "Test JC: 9663.537109375, cs: [tensor(0.1681, grad_fn=<MeanBackward0>), tensor(483.1197, grad_fn=<MeanBackward0>), tensor(0.1952, grad_fn=<MeanBackward0>)]\n",
      "Step 50, Jc: 2843.46923828125, cs: [tensor(346.4675, grad_fn=<MeanBackward0>), tensor(47.1749, grad_fn=<MeanBackward0>), tensor(310.7009, grad_fn=<MeanBackward0>)]\n",
      "Step 100, Jc: 2367.10400390625, cs: [tensor(327.3484, grad_fn=<MeanBackward0>), tensor(48.1122, grad_fn=<MeanBackward0>), tensor(215.5022, grad_fn=<MeanBackward0>)]\n",
      "Test JC: 2148.51318359375, cs: [tensor(308.2404, grad_fn=<MeanBackward0>), tensor(42.4677, grad_fn=<MeanBackward0>), tensor(198.1838, grad_fn=<MeanBackward0>)]\n",
      "Step 150, Jc: 1381.9229736328125, cs: [tensor(424.4377, grad_fn=<MeanBackward0>), tensor(35.9255, grad_fn=<MeanBackward0>), tensor(47.7951, grad_fn=<MeanBackward0>)]\n",
      "Step 200, Jc: 1172.8253173828125, cs: [tensor(485.6739, grad_fn=<MeanBackward0>), tensor(23.7626, grad_fn=<MeanBackward0>), tensor(42.3799, grad_fn=<MeanBackward0>)]\n",
      "Test JC: 1113.298095703125, cs: [tensor(457.2934, grad_fn=<MeanBackward0>), tensor(22.4611, grad_fn=<MeanBackward0>), tensor(41.3567, grad_fn=<MeanBackward0>)]\n",
      "Step 250, Jc: 1045.7491455078125, cs: [tensor(487.5351, grad_fn=<MeanBackward0>), tensor(20.7023, grad_fn=<MeanBackward0>), tensor(28.8337, grad_fn=<MeanBackward0>)]\n",
      "Step 300, Jc: 980.6944580078125, cs: [tensor(497.1299, grad_fn=<MeanBackward0>), tensor(18.3118, grad_fn=<MeanBackward0>), tensor(23.4658, grad_fn=<MeanBackward0>)]\n",
      "Test JC: 942.1705932617188, cs: [tensor(477.3298, grad_fn=<MeanBackward0>), tensor(16.7749, grad_fn=<MeanBackward0>), tensor(25.8687, grad_fn=<MeanBackward0>)]\n",
      "Step 350, Jc: 897.4114990234375, cs: [tensor(494.9802, grad_fn=<MeanBackward0>), tensor(15.0534, grad_fn=<MeanBackward0>), tensor(20.2726, grad_fn=<MeanBackward0>)]\n",
      "Step 400, Jc: 853.41064453125, cs: [tensor(472.7946, grad_fn=<MeanBackward0>), tensor(15.2450, grad_fn=<MeanBackward0>), tensor(15.1433, grad_fn=<MeanBackward0>)]\n",
      "Test JC: 785.9208374023438, cs: [tensor(450.6573, grad_fn=<MeanBackward0>), tensor(12.8178, grad_fn=<MeanBackward0>), tensor(15.7816, grad_fn=<MeanBackward0>)]\n",
      "Step 450, Jc: 809.8614501953125, cs: [tensor(486.8449, grad_fn=<MeanBackward0>), tensor(12.3765, grad_fn=<MeanBackward0>), tensor(15.0973, grad_fn=<MeanBackward0>)]\n",
      "Step 500, Jc: 762.9321899414062, cs: [tensor(469.6178, grad_fn=<MeanBackward0>), tensor(11.9328, grad_fn=<MeanBackward0>), tensor(10.9319, grad_fn=<MeanBackward0>)]\n",
      "Test JC: 698.7425537109375, cs: [tensor(438.6573, grad_fn=<MeanBackward0>), tensor(10.5196, grad_fn=<MeanBackward0>), tensor(9.9387, grad_fn=<MeanBackward0>)]\n",
      "Step 550, Jc: 717.6942138671875, cs: [tensor(477.8633, grad_fn=<MeanBackward0>), tensor(10.0308, grad_fn=<MeanBackward0>), tensor(7.8429, grad_fn=<MeanBackward0>)]\n",
      "Step 600, Jc: 714.69775390625, cs: [tensor(481.8166, grad_fn=<MeanBackward0>), tensor(8.3664, grad_fn=<MeanBackward0>), tensor(13.1106, grad_fn=<MeanBackward0>)]\n",
      "Test JC: 639.2942504882812, cs: [tensor(435.6680, grad_fn=<MeanBackward0>), tensor(8.1236, grad_fn=<MeanBackward0>), tensor(8.2307, grad_fn=<MeanBackward0>)]\n",
      "Step 650, Jc: 687.8751831054688, cs: [tensor(486.7375, grad_fn=<MeanBackward0>), tensor(7.2565, grad_fn=<MeanBackward0>), tensor(11.2017, grad_fn=<MeanBackward0>)]\n",
      "Step 700, Jc: 716.6834716796875, cs: [tensor(478.3254, grad_fn=<MeanBackward0>), tensor(9.4164, grad_fn=<MeanBackward0>), tensor(10.0060, grad_fn=<MeanBackward0>)]\n",
      "Test JC: 661.271484375, cs: [tensor(429.6785, grad_fn=<MeanBackward0>), tensor(9.4276, grad_fn=<MeanBackward0>), tensor(8.6082, grad_fn=<MeanBackward0>)]\n",
      "Step 750, Jc: 664.1270751953125, cs: [tensor(490.2363, grad_fn=<MeanBackward0>), tensor(6.5301, grad_fn=<MeanBackward0>), tensor(8.6579, grad_fn=<MeanBackward0>)]\n",
      "Step 800, Jc: 852.9915771484375, cs: [tensor(476.4248, grad_fn=<MeanBackward0>), tensor(14.7805, grad_fn=<MeanBackward0>), tensor(16.1914, grad_fn=<MeanBackward0>)]\n",
      "Test JC: 777.9680786132812, cs: [tensor(435.0066, grad_fn=<MeanBackward0>), tensor(13.7972, grad_fn=<MeanBackward0>), tensor(13.4035, grad_fn=<MeanBackward0>)]\n",
      "Step 850, Jc: 690.6632080078125, cs: [tensor(473.5225, grad_fn=<MeanBackward0>), tensor(9.0891, grad_fn=<MeanBackward0>), tensor(7.0719, grad_fn=<MeanBackward0>)]\n",
      "Step 900, Jc: 669.8085327148438, cs: [tensor(480.4584, grad_fn=<MeanBackward0>), tensor(7.6012, grad_fn=<MeanBackward0>), tensor(7.4652, grad_fn=<MeanBackward0>)]\n",
      "Test JC: 620.2791748046875, cs: [tensor(440.2585, grad_fn=<MeanBackward0>), tensor(6.9732, grad_fn=<MeanBackward0>), tensor(8.1114, grad_fn=<MeanBackward0>)]\n",
      "Step 950, Jc: 743.0738525390625, cs: [tensor(480.7555, grad_fn=<MeanBackward0>), tensor(9.7407, grad_fn=<MeanBackward0>), tensor(13.5007, grad_fn=<MeanBackward0>)]\n",
      "Step 1000, Jc: 724.55322265625, cs: [tensor(472.4335, grad_fn=<MeanBackward0>), tensor(10.9032, grad_fn=<MeanBackward0>), tensor(6.8110, grad_fn=<MeanBackward0>)]\n",
      "Test JC: 665.6094360351562, cs: [tensor(428.7437, grad_fn=<MeanBackward0>), tensor(10.2596, grad_fn=<MeanBackward0>), tensor(6.3346, grad_fn=<MeanBackward0>)]\n",
      "Step 1050, Jc: 659.98583984375, cs: [tensor(483.6537, grad_fn=<MeanBackward0>), tensor(7.1001, grad_fn=<MeanBackward0>), tensor(6.8662, grad_fn=<MeanBackward0>)]\n",
      "Step 1100, Jc: 651.0968627929688, cs: [tensor(480.6943, grad_fn=<MeanBackward0>), tensor(6.8790, grad_fn=<MeanBackward0>), tensor(6.5644, grad_fn=<MeanBackward0>)]\n",
      "Test JC: 591.6814575195312, cs: [tensor(442.5664, grad_fn=<MeanBackward0>), tensor(5.7617, grad_fn=<MeanBackward0>), tensor(6.7764, grad_fn=<MeanBackward0>)]\n",
      "Step 1150, Jc: 656.7130126953125, cs: [tensor(483.0481, grad_fn=<MeanBackward0>), tensor(6.8234, grad_fn=<MeanBackward0>), tensor(7.4394, grad_fn=<MeanBackward0>)]\n",
      "Step 1200, Jc: 688.8627319335938, cs: [tensor(488.1638, grad_fn=<MeanBackward0>), tensor(8.3298, grad_fn=<MeanBackward0>), tensor(6.8206, grad_fn=<MeanBackward0>)]\n",
      "Test JC: 612.6405029296875, cs: [tensor(447.4449, grad_fn=<MeanBackward0>), tensor(6.5791, grad_fn=<MeanBackward0>), tensor(6.7226, grad_fn=<MeanBackward0>)]\n",
      "Step 1250, Jc: 689.5765991210938, cs: [tensor(490.5732, grad_fn=<MeanBackward0>), tensor(8.3814, grad_fn=<MeanBackward0>), tensor(6.2752, grad_fn=<MeanBackward0>)]\n",
      "Step 1300, Jc: 686.6613159179688, cs: [tensor(489.8481, grad_fn=<MeanBackward0>), tensor(7.8218, grad_fn=<MeanBackward0>), tensor(8.0756, grad_fn=<MeanBackward0>)]\n",
      "Test JC: 620.2091064453125, cs: [tensor(439.3492, grad_fn=<MeanBackward0>), tensor(7.4971, grad_fn=<MeanBackward0>), tensor(6.1834, grad_fn=<MeanBackward0>)]\n",
      "Step 1350, Jc: 719.8032836914062, cs: [tensor(478.6146, grad_fn=<MeanBackward0>), tensor(9.8706, grad_fn=<MeanBackward0>), tensor(8.7555, grad_fn=<MeanBackward0>)]\n",
      "Step 1400, Jc: 704.5940551757812, cs: [tensor(486.4509, grad_fn=<MeanBackward0>), tensor(8.7117, grad_fn=<MeanBackward0>), tensor(8.7819, grad_fn=<MeanBackward0>)]\n",
      "Test JC: 614.4169921875, cs: [tensor(443.0396, grad_fn=<MeanBackward0>), tensor(6.7495, grad_fn=<MeanBackward0>), tensor(7.2774, grad_fn=<MeanBackward0>)]\n",
      "Step 1450, Jc: 666.6207885742188, cs: [tensor(492.1776, grad_fn=<MeanBackward0>), tensor(6.7706, grad_fn=<MeanBackward0>), tensor(7.8061, grad_fn=<MeanBackward0>)]\n",
      "Step 1500, Jc: 633.7495727539062, cs: [tensor(484.4284, grad_fn=<MeanBackward0>), tensor(6.0401, grad_fn=<MeanBackward0>), tensor(5.7040, grad_fn=<MeanBackward0>)]\n",
      "Test JC: 581.5803833007812, cs: [tensor(440.6155, grad_fn=<MeanBackward0>), tensor(5.6162, grad_fn=<MeanBackward0>), tensor(5.7280, grad_fn=<MeanBackward0>)]\n",
      "Step 1550, Jc: 609.0317993164062, cs: [tensor(483.6719, grad_fn=<MeanBackward0>), tensor(4.8188, grad_fn=<MeanBackward0>), tensor(5.7970, grad_fn=<MeanBackward0>)]\n",
      "Step 1600, Jc: 618.0884399414062, cs: [tensor(487.4330, grad_fn=<MeanBackward0>), tensor(4.9590, grad_fn=<MeanBackward0>), tensor(6.2950, grad_fn=<MeanBackward0>)]\n",
      "Test JC: 565.9781494140625, cs: [tensor(445.1109, grad_fn=<MeanBackward0>), tensor(4.5449, grad_fn=<MeanBackward0>), tensor(5.9937, grad_fn=<MeanBackward0>)]\n",
      "Step 1650, Jc: 617.9847412109375, cs: [tensor(486.1335, grad_fn=<MeanBackward0>), tensor(5.1145, grad_fn=<MeanBackward0>), tensor(5.9123, grad_fn=<MeanBackward0>)]\n",
      "Step 1700, Jc: 614.617919921875, cs: [tensor(483.5075, grad_fn=<MeanBackward0>), tensor(5.0513, grad_fn=<MeanBackward0>), tensor(6.0170, grad_fn=<MeanBackward0>)]\n",
      "Test JC: 562.9176025390625, cs: [tensor(440.5771, grad_fn=<MeanBackward0>), tensor(4.6292, grad_fn=<MeanBackward0>), tensor(5.9511, grad_fn=<MeanBackward0>)]\n",
      "Step 1750, Jc: 621.8964233398438, cs: [tensor(482.2686, grad_fn=<MeanBackward0>), tensor(5.4655, grad_fn=<MeanBackward0>), tensor(6.0636, grad_fn=<MeanBackward0>)]\n"
     ]
    },
    {
     "ename": "KeyboardInterrupt",
     "evalue": "",
     "output_type": "error",
     "traceback": [
      "\u001b[0;31m---------------------------------------------------------------------------\u001b[0m",
      "\u001b[0;31mKeyboardInterrupt\u001b[0m                         Traceback (most recent call last)",
      "Cell \u001b[0;32mIn[50], line 16\u001b[0m\n\u001b[1;32m     14\u001b[0m Jc, cs \u001b[38;5;241m=\u001b[39m OTFlowProblem(x_batch, y_batch, net, [\u001b[38;5;241m0.0\u001b[39m, \u001b[38;5;241m1.0\u001b[39m], nt, alph\u001b[38;5;241m=\u001b[39malph)\n\u001b[1;32m     15\u001b[0m optim\u001b[38;5;241m.\u001b[39mzero_grad()\n\u001b[0;32m---> 16\u001b[0m \u001b[43mJc\u001b[49m\u001b[38;5;241;43m.\u001b[39;49m\u001b[43mbackward\u001b[49m\u001b[43m(\u001b[49m\u001b[43m)\u001b[49m\n\u001b[1;32m     17\u001b[0m optim\u001b[38;5;241m.\u001b[39mstep()\n\u001b[1;32m     18\u001b[0m loss_arr\u001b[38;5;241m.\u001b[39mappend(Jc\u001b[38;5;241m.\u001b[39mitem())\n",
      "File \u001b[0;32m~/Library/Python/3.12/lib/python/site-packages/torch/_tensor.py:522\u001b[0m, in \u001b[0;36mTensor.backward\u001b[0;34m(self, gradient, retain_graph, create_graph, inputs)\u001b[0m\n\u001b[1;32m    512\u001b[0m \u001b[38;5;28;01mif\u001b[39;00m has_torch_function_unary(\u001b[38;5;28mself\u001b[39m):\n\u001b[1;32m    513\u001b[0m     \u001b[38;5;28;01mreturn\u001b[39;00m handle_torch_function(\n\u001b[1;32m    514\u001b[0m         Tensor\u001b[38;5;241m.\u001b[39mbackward,\n\u001b[1;32m    515\u001b[0m         (\u001b[38;5;28mself\u001b[39m,),\n\u001b[0;32m   (...)\u001b[0m\n\u001b[1;32m    520\u001b[0m         inputs\u001b[38;5;241m=\u001b[39minputs,\n\u001b[1;32m    521\u001b[0m     )\n\u001b[0;32m--> 522\u001b[0m \u001b[43mtorch\u001b[49m\u001b[38;5;241;43m.\u001b[39;49m\u001b[43mautograd\u001b[49m\u001b[38;5;241;43m.\u001b[39;49m\u001b[43mbackward\u001b[49m\u001b[43m(\u001b[49m\n\u001b[1;32m    523\u001b[0m \u001b[43m    \u001b[49m\u001b[38;5;28;43mself\u001b[39;49m\u001b[43m,\u001b[49m\u001b[43m \u001b[49m\u001b[43mgradient\u001b[49m\u001b[43m,\u001b[49m\u001b[43m \u001b[49m\u001b[43mretain_graph\u001b[49m\u001b[43m,\u001b[49m\u001b[43m \u001b[49m\u001b[43mcreate_graph\u001b[49m\u001b[43m,\u001b[49m\u001b[43m \u001b[49m\u001b[43minputs\u001b[49m\u001b[38;5;241;43m=\u001b[39;49m\u001b[43minputs\u001b[49m\n\u001b[1;32m    524\u001b[0m \u001b[43m\u001b[49m\u001b[43m)\u001b[49m\n",
      "File \u001b[0;32m~/Library/Python/3.12/lib/python/site-packages/torch/autograd/__init__.py:266\u001b[0m, in \u001b[0;36mbackward\u001b[0;34m(tensors, grad_tensors, retain_graph, create_graph, grad_variables, inputs)\u001b[0m\n\u001b[1;32m    261\u001b[0m     retain_graph \u001b[38;5;241m=\u001b[39m create_graph\n\u001b[1;32m    263\u001b[0m \u001b[38;5;66;03m# The reason we repeat the same comment below is that\u001b[39;00m\n\u001b[1;32m    264\u001b[0m \u001b[38;5;66;03m# some Python versions print out the first line of a multi-line function\u001b[39;00m\n\u001b[1;32m    265\u001b[0m \u001b[38;5;66;03m# calls in the traceback and some print out the last line\u001b[39;00m\n\u001b[0;32m--> 266\u001b[0m \u001b[43mVariable\u001b[49m\u001b[38;5;241;43m.\u001b[39;49m\u001b[43m_execution_engine\u001b[49m\u001b[38;5;241;43m.\u001b[39;49m\u001b[43mrun_backward\u001b[49m\u001b[43m(\u001b[49m\u001b[43m  \u001b[49m\u001b[38;5;66;43;03m# Calls into the C++ engine to run the backward pass\u001b[39;49;00m\n\u001b[1;32m    267\u001b[0m \u001b[43m    \u001b[49m\u001b[43mtensors\u001b[49m\u001b[43m,\u001b[49m\n\u001b[1;32m    268\u001b[0m \u001b[43m    \u001b[49m\u001b[43mgrad_tensors_\u001b[49m\u001b[43m,\u001b[49m\n\u001b[1;32m    269\u001b[0m \u001b[43m    \u001b[49m\u001b[43mretain_graph\u001b[49m\u001b[43m,\u001b[49m\n\u001b[1;32m    270\u001b[0m \u001b[43m    \u001b[49m\u001b[43mcreate_graph\u001b[49m\u001b[43m,\u001b[49m\n\u001b[1;32m    271\u001b[0m \u001b[43m    \u001b[49m\u001b[43minputs\u001b[49m\u001b[43m,\u001b[49m\n\u001b[1;32m    272\u001b[0m \u001b[43m    \u001b[49m\u001b[43mallow_unreachable\u001b[49m\u001b[38;5;241;43m=\u001b[39;49m\u001b[38;5;28;43;01mTrue\u001b[39;49;00m\u001b[43m,\u001b[49m\n\u001b[1;32m    273\u001b[0m \u001b[43m    \u001b[49m\u001b[43maccumulate_grad\u001b[49m\u001b[38;5;241;43m=\u001b[39;49m\u001b[38;5;28;43;01mTrue\u001b[39;49;00m\u001b[43m,\u001b[49m\n\u001b[1;32m    274\u001b[0m \u001b[43m\u001b[49m\u001b[43m)\u001b[49m\n",
      "\u001b[0;31mKeyboardInterrupt\u001b[0m: "
     ]
    }
   ],
   "source": [
    "batch_size = 5000\n",
    "num_steps = 10000\n",
    "\n",
    "optim = torch.optim.Adam(net.parameters(), lr=0.01) # lr=0.04 good\n",
    "loss_arr = []\n",
    "test_loss_arr = []\n",
    "\n",
    "dataloader = torch.utils.data.DataLoader(list(zip(x,y)), batch_size=batch_size, shuffle=True)\n",
    "sheduler = torch.optim.lr_scheduler.StepLR(optim, step_size=500, gamma=0.5)\n",
    "for step in range(num_steps):\n",
    "    for x_batch, y_batch in dataloader:\n",
    "        x_batch = x_batch.to(device).float()\n",
    "        y_batch = y_batch.to(device).float()\n",
    "        Jc, cs = OTFlowProblem(x_batch, y_batch, net, [0.0, 1.0], nt, alph=alph)\n",
    "        optim.zero_grad()\n",
    "        Jc.backward()\n",
    "        optim.step()\n",
    "        loss_arr.append(Jc.item())\n",
    "    sheduler.step()\n",
    "    if step % 50 == 0:\n",
    "        print(f\"Step {step}, Jc: {Jc}, cs: {cs}\")\n",
    "    if step % 100 == 0:\n",
    "        test_JC, test_cs = OTFlowProblem(test_x.to(device).float(), test_y.to(device).float(), net, [0.0, 1.0], nt, alph=alph)\n",
    "        test_loss_arr.append(test_JC.item())\n",
    "        print(f\"Test JC: {test_JC}, cs: {test_cs}\")\n"
   ]
  },
  {
   "cell_type": "code",
   "execution_count": 51,
   "metadata": {},
   "outputs": [
    {
     "data": {
      "text/plain": [
       "Text(0, 0.5, 'Negative Log Likelihood')"
      ]
     },
     "execution_count": 51,
     "metadata": {},
     "output_type": "execute_result"
    },
    {
     "data": {
      "image/png": "[encoded data removed]",
      "text/plain": [
       "<Figure size 640x480 with 1 Axes>"
      ]
     },
     "metadata": {},
     "output_type": "display_data"
    }
   ],
   "source": [
    "plt.plot(loss_arr)\n",
    "plt.ylim(-500, 2000)\n",
    "plt.xlabel(\"Iterations\")\n",
    "plt.ylabel(\"Negative Log Likelihood\")"
   ]
  },
  {
   "cell_type": "code",
   "execution_count": 52,
   "metadata": {},
   "outputs": [
    {
     "data": {
      "text/plain": [
       "[<matplotlib.lines.Line2D at 0x12970ac30>]"
      ]
     },
     "execution_count": 52,
     "metadata": {},
     "output_type": "execute_result"
    },
    {
     "data": {
      "image/png": "[encoded data removed]",
      "text/plain": [
       "<Figure size 640x480 with 1 Axes>"
      ]
     },
     "metadata": {},
     "output_type": "display_data"
    }
   ],
   "source": [
    "plt.plot(test_loss_arr)\n"
   ]
  },
  {
   "cell_type": "code",
   "execution_count": 53,
   "metadata": {},
   "outputs": [],
   "source": [
    "col_green = '1b9e77'\n",
    "col_orange = 'd95f02'\n",
    "col_purple = '7570b3'"
   ]
  },
  {
   "cell_type": "code",
   "execution_count": 128,
   "metadata": {},
   "outputs": [
    {
     "data": {
      "text/plain": [
       "<matplotlib.legend.Legend at 0x148a06e70>"
      ]
     },
     "execution_count": 128,
     "metadata": {},
     "output_type": "execute_result"
    },
    {
     "data": {
      "image/png": "[encoded data removed]",
      "text/plain": [
       "<Figure size 640x480 with 1 Axes>"
      ]
     },
     "metadata": {},
     "output_type": "display_data"
    }
   ],
   "source": [
    "x_ = 30\n",
    "y_ = 10\n",
    "z = prior.sample((1000,)).to(device)\n",
    "cond = torch.tensor([[x_, y_]]).repeat(1000, 1).to(device)\n",
    "finvx = integrate(z, cond, net, [1.0, 0.0], 32, stepper=\"rk4\", alph=net.alph)\n",
    "modelGen = finvx.detach().cpu()\n",
    "max_steps = 10\n",
    "\n",
    "angles = modelGen\n",
    "result_x, result_y = simulate_lotka_volterra(\n",
    "        angles[:, 3],\n",
    "        angles[:, 4],\n",
    "        angles[:, 5],\n",
    "        angles[:, 6],\n",
    "        angles[:, 0],\n",
    "        angles[:, 1],\n",
    "        angles[:, 2],\n",
    "        dt,\n",
    "        max_steps,\n",
    "        )\n",
    "target = [x_, y_]\n",
    "col_red = '#c61826'\n",
    "col_dark_red = '#590d08'\n",
    "col_blue = '#01024d'\n",
    "plt.scatter(result_x, result_y, s = 20, c = col_red, alpha = 1, label='Forward Simulation of generated samples')\n",
    "plt.scatter(target[0], target[1], marker = '^',s = 40, alpha = 1, c=col_blue, label='Original Condition')\n",
    "plt.xlim(target[0]-10, target[0]+10)\n",
    "plt.ylim(target[1]-10, target[1]+10)\n",
    "plt.xlabel('Prey')\n",
    "plt.ylabel('Predator')\n",
    "plt.legend()\n",
    "        \n",
    "        "
   ]
  },
  {
   "cell_type": "code",
   "execution_count": 129,
   "metadata": {},
   "outputs": [
    {
     "name": "stdout",
     "output_type": "stream",
     "text": [
      "22.5894 10.194629\n"
     ]
    }
   ],
   "source": [
    "print(np.mean(result_x.detach().numpy()), np.mean(result_y.detach().numpy()))"
   ]
  },
  {
   "cell_type": "code",
   "execution_count": 130,
   "metadata": {},
   "outputs": [
    {
     "name": "stdout",
     "output_type": "stream",
     "text": [
      "7.971377\n"
     ]
    }
   ],
   "source": [
    "print(np.mean(np.sqrt((result_x.detach().numpy() - target[0])**2 + (result_y.detach().numpy() - target[1])**2)))"
   ]
  },
  {
   "cell_type": "code",
   "execution_count": 131,
   "metadata": {},
   "outputs": [
    {
     "name": "stdout",
     "output_type": "stream",
     "text": [
      "tensor([[26.5882,  1.2287],\n",
      "        [ 1.2287,  1.0697]])\n"
     ]
    }
   ],
   "source": [
    "concatenated_array = torch.stack([result_x, result_y])\n",
    "print(torch.cov(concatenated_array))"
   ]
  },
  {
   "cell_type": "code",
   "execution_count": 132,
   "metadata": {},
   "outputs": [
    {
     "name": "stdout",
     "output_type": "stream",
     "text": [
      "24.272303\n"
     ]
    }
   ],
   "source": [
    "print(np.max(np.sqrt((result_x.detach().numpy() - target[0])**2 + (result_y.detach().numpy() - target[1])**2)))"
   ]
  },
  {
   "cell_type": "code",
   "execution_count": 133,
   "metadata": {},
   "outputs": [
    {
     "name": "stdout",
     "output_type": "stream",
     "text": [
      "0.04159693\n"
     ]
    }
   ],
   "source": [
    "print(np.min(np.sqrt((result_x.detach().numpy() - target[0])**2 + (result_y.detach().numpy() - target[1])**2)))"
   ]
  },
  {
   "cell_type": "code",
   "execution_count": 134,
   "metadata": {},
   "outputs": [
    {
     "data": {
      "text/plain": [
       "<matplotlib.legend.Legend at 0x1488abf80>"
      ]
     },
     "execution_count": 134,
     "metadata": {},
     "output_type": "execute_result"
    },
    {
     "data": {
      "image/png": "[encoded data removed]",
      "text/plain": [
       "<Figure size 640x480 with 1 Axes>"
      ]
     },
     "metadata": {},
     "output_type": "display_data"
    }
   ],
   "source": [
    "x_ = 10\n",
    "y_ = 10\n",
    "z = prior.sample((1000,)).to(device)\n",
    "cond = torch.tensor([[x_, y_]]).repeat(1000, 1).to(device)\n",
    "finvx = integrate(z, cond, net, [1.0, 0.0], 32, stepper=\"rk4\", alph=net.alph)\n",
    "modelGen = finvx.detach().cpu()\n",
    "max_steps = 10\n",
    "\n",
    "angles = modelGen\n",
    "result_x, result_y = simulate_lotka_volterra(\n",
    "        angles[:, 3],\n",
    "        angles[:, 4],\n",
    "        angles[:, 5],\n",
    "        angles[:, 6],\n",
    "        angles[:, 0],\n",
    "        angles[:, 1],\n",
    "        angles[:, 2],\n",
    "        dt,\n",
    "        max_steps,\n",
    "        )\n",
    "target = [x_, y_]\n",
    "col_red = '#c61826'\n",
    "col_dark_red = '#590d08'\n",
    "col_blue = '#01024d'\n",
    "plt.scatter(result_x, result_y, s = 20, c = col_red, alpha = 1, label='Forward Simulation of generated samples')\n",
    "plt.scatter(target[0], target[1], marker = '^',s = 40, alpha = 1, c=col_blue, label='Original Condition')\n",
    "plt.xlim(target[0]-10, target[0]+10)\n",
    "plt.ylim(target[1]-10, target[1]+10)\n",
    "plt.xlabel('Prey')\n",
    "plt.ylabel('Predator')\n",
    "plt.legend()\n",
    "        "
   ]
  },
  {
   "cell_type": "code",
   "execution_count": 135,
   "metadata": {},
   "outputs": [],
   "source": [
    "def MMD(x, y):\n",
    "        gamma = 2\n",
    "        xx, yy, zz = torch.mm(x, x.t()), torch.mm(y, y.t()), torch.mm(x, y.t())\n",
    "        rx = (xx.diag().unsqueeze(0).expand_as(xx))\n",
    "        ry = (yy.diag().unsqueeze(0).expand_as(yy))\n",
    "\n",
    "        dxx = rx.t() + rx - 2. * xx # Used for A in (1)\n",
    "        dyy = ry.t() + ry - 2. * yy # Used for B in (1)\n",
    "        rxx = rx[0].repeat(y.shape[0], 1)\n",
    "        ryy = ry[0].repeat(x.shape[0], 1) \n",
    "        dxy = rxx.t() + ryy - 2. * zz # Used for C in (1)\n",
    "\n",
    "        XX, YY, XY = (torch.zeros(xx.shape).to(device),\n",
    "                      torch.zeros(yy.shape).to(device),\n",
    "                      torch.zeros(zz.shape).to(device))\n",
    "        XX += 1/(1 + dxx/gamma**2)\n",
    "        YY += 1/(1 + dyy/gamma**2)\n",
    "        XY += 1/(1 + dxy/gamma**2)\n",
    "        return XX.mean() + YY.mean() - 2*XY.mean()"
   ]
  },
  {
   "cell_type": "code",
   "execution_count": 136,
   "metadata": {},
   "outputs": [
    {
     "ename": "RuntimeError",
     "evalue": "mat1 and mat2 shapes cannot be multiplied (1000x7 and 10x1000)",
     "output_type": "error",
     "traceback": [
      "\u001b[0;31m---------------------------------------------------------------------------\u001b[0m",
      "\u001b[0;31mRuntimeError\u001b[0m                              Traceback (most recent call last)",
      "Cell \u001b[0;32mIn[136], line 1\u001b[0m\n\u001b[0;32m----> 1\u001b[0m \u001b[38;5;28mprint\u001b[39m(\u001b[43mMMD\u001b[49m\u001b[43m(\u001b[49m\u001b[43mx\u001b[49m\u001b[38;5;241;43m.\u001b[39;49m\u001b[43mfloat\u001b[49m\u001b[43m(\u001b[49m\u001b[43m)\u001b[49m\u001b[43m,\u001b[49m\u001b[43m \u001b[49m\u001b[43mangles\u001b[49m\u001b[38;5;241;43m.\u001b[39;49m\u001b[43mfloat\u001b[49m\u001b[43m(\u001b[49m\u001b[43m)\u001b[49m\u001b[43m)\u001b[49m)\n",
      "Cell \u001b[0;32mIn[135], line 3\u001b[0m, in \u001b[0;36mMMD\u001b[0;34m(x, y)\u001b[0m\n\u001b[1;32m      1\u001b[0m \u001b[38;5;28;01mdef\u001b[39;00m \u001b[38;5;21mMMD\u001b[39m(x, y):\n\u001b[1;32m      2\u001b[0m         gamma \u001b[38;5;241m=\u001b[39m \u001b[38;5;241m2\u001b[39m\n\u001b[0;32m----> 3\u001b[0m         xx, yy, zz \u001b[38;5;241m=\u001b[39m torch\u001b[38;5;241m.\u001b[39mmm(x, x\u001b[38;5;241m.\u001b[39mt()), torch\u001b[38;5;241m.\u001b[39mmm(y, y\u001b[38;5;241m.\u001b[39mt()), \u001b[43mtorch\u001b[49m\u001b[38;5;241;43m.\u001b[39;49m\u001b[43mmm\u001b[49m\u001b[43m(\u001b[49m\u001b[43mx\u001b[49m\u001b[43m,\u001b[49m\u001b[43m \u001b[49m\u001b[43my\u001b[49m\u001b[38;5;241;43m.\u001b[39;49m\u001b[43mt\u001b[49m\u001b[43m(\u001b[49m\u001b[43m)\u001b[49m\u001b[43m)\u001b[49m\n\u001b[1;32m      4\u001b[0m         rx \u001b[38;5;241m=\u001b[39m (xx\u001b[38;5;241m.\u001b[39mdiag()\u001b[38;5;241m.\u001b[39munsqueeze(\u001b[38;5;241m0\u001b[39m)\u001b[38;5;241m.\u001b[39mexpand_as(xx))\n\u001b[1;32m      5\u001b[0m         ry \u001b[38;5;241m=\u001b[39m (yy\u001b[38;5;241m.\u001b[39mdiag()\u001b[38;5;241m.\u001b[39munsqueeze(\u001b[38;5;241m0\u001b[39m)\u001b[38;5;241m.\u001b[39mexpand_as(yy))\n",
      "\u001b[0;31mRuntimeError\u001b[0m: mat1 and mat2 shapes cannot be multiplied (1000x7 and 10x1000)"
     ]
    }
   ],
   "source": [
    "print(MMD(x.float(), angles.float()))"
   ]
  }
 ],
 "metadata": {
  "kernelspec": {
   "display_name": "Python 3",
   "language": "python",
   "name": "python3"
  },
  "language_info": {
   "codemirror_mode": {
    "name": "ipython",
    "version": 3
   },
   "file_extension": ".py",
   "mimetype": "text/x-python",
   "name": "python",
   "nbconvert_exporter": "python",
   "pygments_lexer": "ipython3",
   "version": "3.12.2"
  }
 },
 "nbformat": 4,
 "nbformat_minor": 2
}
